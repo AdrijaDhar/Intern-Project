{
 "cells": [
  {
   "cell_type": "code",
   "execution_count": null,
   "metadata": {},
   "outputs": [],
   "source": [
    "import warnings\n",
    "\n",
    "from sklearn.model_selection import train_test_split\n",
    "import tensorflow as tf\n",
    "from tensorflow import keras\n",
    "\n",
    "\n",
    "import pandas as pd\n",
    "import matplotlib.pyplot as plt\n",
    "import seaborn as sns\n",
    "import plotly.express as px\n",
    "import numpy as np\n",
    "\n",
    "import re\n",
    "import nltk\n",
    "nltk.download('all')\n",
    "from nltk.corpus import stopwords\n",
    "from nltk.tokenize import word_tokenize\n",
    "from nltk.stem import WordNetLemmatizer\n",
    "lemm = WordNetLemmatizer()\n",
    "\n",
    "warnings.filterwarnings(\"ignore\")\n"
   ]
  },
  {
   "cell_type": "code",
   "execution_count": null,
   "metadata": {},
   "outputs": [],
   "source": [
    "data = pd.read_csv('Clothing Review.csv')\n",
    "data.head(7)\n",
    "print(data.shape)\n",
    "\n",
    "# clean the data\n",
    "data = data[data['Class Name'].isnull() == False]\n"
   ]
  },
  {
   "cell_type": "code",
   "execution_count": null,
   "metadata": {},
   "outputs": [],
   "source": [
    "# count plot we automatically plot\n",
    "# the unique count of the feature selected\n",
    "\n",
    "sns.countplot(data=data, x='Class Name')\n",
    "plt.xticks(rotation=90)\n",
    "plt.show()\n"
   ]
  },
  {
   "cell_type": "code",
   "execution_count": null,
   "metadata": {},
   "outputs": [],
   "source": [
    "plt.subplots(figsize=(12, 5))\n",
    "plt.subplot(1, 2, 1)\n",
    "sns.countplot(data=data, x='Rating')\n",
    "\n",
    "plt.subplot(1, 2, 2)\n",
    "sns.countplot(data=data, x=\"Recommended IND\")\n",
    "plt.show()\n"
   ]
  },
  {
   "cell_type": "code",
   "execution_count": null,
   "metadata": {},
   "outputs": [],
   "source": [
    "\n",
    "fig = px.histogram(data, marginal='box',\n",
    "\t\t\t\tx=\"Age\", title=\"Age Group\",\n",
    "\t\t\t\tcolor=\"Recommended IND\",\n",
    "\t\t\t\tnbins=65-18,\n",
    "\t\t\t\tcolor_discrete_sequence=['green', 'red'])\n",
    "fig.update_layout(bargap=0.2)\n"
   ]
  },
  {
   "cell_type": "code",
   "execution_count": null,
   "metadata": {},
   "outputs": [],
   "source": [
    "fig = px.histogram(data,\n",
    "\t\t\t\tx=\"Age\",\n",
    "\t\t\t\tmarginal='box',\n",
    "\t\t\t\ttitle=\"Age Group\",\n",
    "\t\t\t\tcolor=\"Rating\",\n",
    "\t\t\t\tnbins=65-18,\n",
    "\t\t\t\tcolor_discrete_sequence\\\n",
    "\t\t\t\t=['black', 'green', 'blue', 'red', 'yellow'])\n",
    "fig.update_layout(bargap=0.2)\n"
   ]
  },
  {
   "cell_type": "code",
   "execution_count": null,
   "metadata": {},
   "outputs": [],
   "source": [
    "def filter_score(rating):\n",
    "\treturn int(rating > 3)\n",
    "\n",
    "features = ['Class Name', 'Title', 'Review Text']\n",
    "\n",
    "X = data[features]\n",
    "y = data['Rating']\n",
    "y = y.apply(filter_score)\n"
   ]
  },
  {
   "cell_type": "code",
   "execution_count": null,
   "metadata": {},
   "outputs": [],
   "source": [
    "import nltk\n",
    "nltk.download('stopwords')\n",
    "def toLower(data):\n",
    "\tif isinstance(data, float):\n",
    "\t\treturn '<UNK>'\n",
    "\telse:\n",
    "\t\treturn data.lower()\n",
    "\n",
    "stop_words = stopwords.words(\"english\")\n",
    "\n",
    "def remove_stopwords(text):\n",
    "\tno_stop = []\n",
    "\tfor word in text.split(' '):\n",
    "\t\tif word not in stop_words:\n",
    "\t\t\tno_stop.append(word)\n",
    "\treturn \" \".join(no_stop)\n",
    "\n",
    "def remove_punctuation_func(text):\n",
    "\treturn re.sub(r'[^a-zA-Z0-9]', ' ', text)\n",
    "\n",
    "# convert into lower case\n",
    "X['Title'] = X['Title'].apply(toLower)\n",
    "X['Review Text'] = X['Review Text'].apply(toLower)\n",
    "# remove common words\n",
    "X['Title'] = X['Title'].apply(remove_stopwords)\n",
    "X['Review Text'] = X['Review Text'].apply(remove_stopwords)\n",
    "# lemmatization\n",
    "X['Title'] = X['Title'].apply(lambda x: lemm.lemmatize(x))\n",
    "X['Review Text'] = X['Review Text'].apply(lambda x: lemm.lemmatize(x))\n",
    "# remove punctuation\n",
    "X['Title'] = X['Title'].apply(remove_punctuation_func)\n",
    "X['Review Text'] = X['Review Text'].apply(remove_punctuation_func)\n",
    "\n",
    "X['Text'] = list(X['Title']+X['Review Text']+X['Class Name'])\n",
    "\n",
    "# split into training and testing\n",
    "X_train, X_test, y_train, y_test = train_test_split(\n",
    "\tX['Text'], y, test_size=0.25, random_state=42)\n"
   ]
  },
  {
   "cell_type": "code",
   "execution_count": null,
   "metadata": {},
   "outputs": [],
   "source": [
    "\n",
    "from tokenize import tokenize\n",
    "\n",
    "\n",
    "tokenizer = tokenize(num_words=10000, oov_token='<OOV>')\n",
    "tokenizer.fit_on_texts(X_train)"
   ]
  },
  {
   "cell_type": "code",
   "execution_count": null,
   "metadata": {},
   "outputs": [],
   "source": [
    "from keras.utils.data_utils import pad_sequences\n",
    "train_seq = tokenizer.texts_to_sequences(X_train)\n",
    "test_seq = tokenizer.texts_to_sequences(X_test)\n",
    "\n",
    "train_pad = pad_sequences(train_seq,\n",
    "\t\t\t\t\t\tmaxlen=40,\n",
    "\t\t\t\t\t\ttruncating=\"post\",\n",
    "\t\t\t\t\t\tpadding=\"post\")\n",
    "test_pad = pad_sequences(test_seq,\n",
    "\t\t\t\t\t\tmaxlen=40,\n",
    "\t\t\t\t\t\ttruncating=\"post\",\n",
    "\t\t\t\t\t\tpadding=\"post\")\n"
   ]
  },
  {
   "cell_type": "code",
   "execution_count": null,
   "metadata": {},
   "outputs": [],
   "source": [
    "model = keras.models.Sequential()\n",
    "model.add(keras.layers.Embedding(10000, 128))\n",
    "model.add(keras.layers.SimpleRNN(64, return_sequences=True))\n",
    "model.add(keras.layers.SimpleRNN(64))\n",
    "model.add(keras.layers.Dense(128, activation=\"relu\"))\n",
    "model.add(keras.layers.Dropout(0.4))\n",
    "model.add(keras.layers.Dense(1, activation=\"sigmoid\"))\n",
    "\n",
    "model.summary()\n"
   ]
  },
  {
   "cell_type": "code",
   "execution_count": null,
   "metadata": {},
   "outputs": [],
   "source": [
    "model.compile(\"rmsprop\",\n",
    "\t\t\t\"binary_crossentropy\",\n",
    "\t\t\tmetrics=[\"accuracy\"])\n",
    "history = model.fit(train_pad,\n",
    "\t\t\t\t\ty_train,\n",
    "\t\t\t\t\tepochs=5)\n"
   ]
  }
 ],
 "metadata": {
  "kernelspec": {
   "display_name": "Python 3",
   "language": "python",
   "name": "python3"
  },
  "language_info": {
   "codemirror_mode": {
    "name": "ipython",
    "version": 3
   },
   "file_extension": ".py",
   "mimetype": "text/x-python",
   "name": "python",
   "nbconvert_exporter": "python",
   "pygments_lexer": "ipython3",
   "version": "3.11.1"
  },
  "orig_nbformat": 4
 },
 "nbformat": 4,
 "nbformat_minor": 2
}
